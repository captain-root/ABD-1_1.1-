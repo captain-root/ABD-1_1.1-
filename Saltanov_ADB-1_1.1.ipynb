{
  "nbformat": 4,
  "nbformat_minor": 0,
  "metadata": {
    "colab": {
      "name": "Untitled3.ipynb",
      "version": "0.3.2",
      "provenance": [],
      "collapsed_sections": []
    },
    "kernelspec": {
      "name": "python3",
      "display_name": "Python 3"
    }
  },
  "cells": [
    {
      "metadata": {
        "id": "Lh0lq5JAqtBk",
        "colab_type": "code",
        "colab": {}
      },
      "cell_type": "code",
      "source": [
        "import pandas as pd"
      ],
      "execution_count": 0,
      "outputs": []
    },
    {
      "metadata": {
        "id": "5zf80uOtq1pq",
        "colab_type": "code",
        "colab": {}
      },
      "cell_type": "code",
      "source": [
        "data = pd.read_csv('abalone.csv')"
      ],
      "execution_count": 0,
      "outputs": []
    },
    {
      "metadata": {
        "id": "YIxQFnwhq-Yh",
        "colab_type": "code",
        "outputId": "b8bf7f12-e6b2-4fc3-cf31-9669ddcd9d09",
        "colab": {
          "base_uri": "https://localhost:8080/",
          "height": 204
        }
      },
      "cell_type": "code",
      "source": [
        "data.head()"
      ],
      "execution_count": 6,
      "outputs": [
        {
          "output_type": "execute_result",
          "data": {
            "text/html": [
              "<div>\n",
              "<style scoped>\n",
              "    .dataframe tbody tr th:only-of-type {\n",
              "        vertical-align: middle;\n",
              "    }\n",
              "\n",
              "    .dataframe tbody tr th {\n",
              "        vertical-align: top;\n",
              "    }\n",
              "\n",
              "    .dataframe thead th {\n",
              "        text-align: right;\n",
              "    }\n",
              "</style>\n",
              "<table border=\"1\" class=\"dataframe\">\n",
              "  <thead>\n",
              "    <tr style=\"text-align: right;\">\n",
              "      <th></th>\n",
              "      <th>Sex</th>\n",
              "      <th>Length</th>\n",
              "      <th>Diameter</th>\n",
              "      <th>Height</th>\n",
              "      <th>Whole weight</th>\n",
              "      <th>Shucked weight</th>\n",
              "      <th>Viscera weight</th>\n",
              "      <th>Shell weight</th>\n",
              "      <th>Rings</th>\n",
              "    </tr>\n",
              "  </thead>\n",
              "  <tbody>\n",
              "    <tr>\n",
              "      <th>0</th>\n",
              "      <td>M</td>\n",
              "      <td>0.455</td>\n",
              "      <td>0.365</td>\n",
              "      <td>0.095</td>\n",
              "      <td>0.5140</td>\n",
              "      <td>0.2245</td>\n",
              "      <td>0.1010</td>\n",
              "      <td>0.150</td>\n",
              "      <td>15</td>\n",
              "    </tr>\n",
              "    <tr>\n",
              "      <th>1</th>\n",
              "      <td>M</td>\n",
              "      <td>0.350</td>\n",
              "      <td>0.265</td>\n",
              "      <td>0.090</td>\n",
              "      <td>0.2255</td>\n",
              "      <td>0.0995</td>\n",
              "      <td>0.0485</td>\n",
              "      <td>0.070</td>\n",
              "      <td>7</td>\n",
              "    </tr>\n",
              "    <tr>\n",
              "      <th>2</th>\n",
              "      <td>F</td>\n",
              "      <td>0.530</td>\n",
              "      <td>0.420</td>\n",
              "      <td>0.135</td>\n",
              "      <td>0.6770</td>\n",
              "      <td>0.2565</td>\n",
              "      <td>0.1415</td>\n",
              "      <td>0.210</td>\n",
              "      <td>9</td>\n",
              "    </tr>\n",
              "    <tr>\n",
              "      <th>3</th>\n",
              "      <td>M</td>\n",
              "      <td>0.440</td>\n",
              "      <td>0.365</td>\n",
              "      <td>0.125</td>\n",
              "      <td>0.5160</td>\n",
              "      <td>0.2155</td>\n",
              "      <td>0.1140</td>\n",
              "      <td>0.155</td>\n",
              "      <td>10</td>\n",
              "    </tr>\n",
              "    <tr>\n",
              "      <th>4</th>\n",
              "      <td>I</td>\n",
              "      <td>0.330</td>\n",
              "      <td>0.255</td>\n",
              "      <td>0.080</td>\n",
              "      <td>0.2050</td>\n",
              "      <td>0.0895</td>\n",
              "      <td>0.0395</td>\n",
              "      <td>0.055</td>\n",
              "      <td>7</td>\n",
              "    </tr>\n",
              "  </tbody>\n",
              "</table>\n",
              "</div>"
            ],
            "text/plain": [
              "  Sex  Length  Diameter  Height  Whole weight  Shucked weight  Viscera weight  \\\n",
              "0   M   0.455     0.365   0.095        0.5140          0.2245          0.1010   \n",
              "1   M   0.350     0.265   0.090        0.2255          0.0995          0.0485   \n",
              "2   F   0.530     0.420   0.135        0.6770          0.2565          0.1415   \n",
              "3   M   0.440     0.365   0.125        0.5160          0.2155          0.1140   \n",
              "4   I   0.330     0.255   0.080        0.2050          0.0895          0.0395   \n",
              "\n",
              "   Shell weight  Rings  \n",
              "0         0.150     15  \n",
              "1         0.070      7  \n",
              "2         0.210      9  \n",
              "3         0.155     10  \n",
              "4         0.055      7  "
            ]
          },
          "metadata": {
            "tags": []
          },
          "execution_count": 6
        }
      ]
    },
    {
      "metadata": {
        "id": "KjzgJnpnrBna",
        "colab_type": "code",
        "outputId": "28ff4688-90be-4d60-db7c-0876367fd7ac",
        "colab": {
          "base_uri": "https://localhost:8080/",
          "height": 34
        }
      },
      "cell_type": "code",
      "source": [
        "data.shape"
      ],
      "execution_count": 7,
      "outputs": [
        {
          "output_type": "execute_result",
          "data": {
            "text/plain": [
              "(4177, 9)"
            ]
          },
          "metadata": {
            "tags": []
          },
          "execution_count": 7
        }
      ]
    },
    {
      "metadata": {
        "id": "KXQwjpUPrMKM",
        "colab_type": "code",
        "colab": {}
      },
      "cell_type": "code",
      "source": [
        "import matplotlib.pyplot as plt"
      ],
      "execution_count": 0,
      "outputs": []
    },
    {
      "metadata": {
        "id": "mniVhM4csPRs",
        "colab_type": "code",
        "outputId": "84ffa9dc-0122-41b6-deb5-21c212960b3b",
        "colab": {
          "base_uri": "https://localhost:8080/",
          "height": 432
        }
      },
      "cell_type": "code",
      "source": [
        "plt.hist(data.Diameter)"
      ],
      "execution_count": 9,
      "outputs": [
        {
          "output_type": "execute_result",
          "data": {
            "text/plain": [
              "(array([  13.,   66.,  180.,  344.,  513.,  812., 1017.,  934.,  275.,\n",
              "          23.]),\n",
              " array([0.055 , 0.1145, 0.174 , 0.2335, 0.293 , 0.3525, 0.412 , 0.4715,\n",
              "        0.531 , 0.5905, 0.65  ]),\n",
              " <a list of 10 Patch objects>)"
            ]
          },
          "metadata": {
            "tags": []
          },
          "execution_count": 9
        },
        {
          "output_type": "display_data",
          "data": {
            "image/png": "[encoded data removed]",
            "text/plain": [
              "<Figure size 576x396 with 1 Axes>"
            ]
          },
          "metadata": {
            "tags": []
          }
        }
      ]
    },
    {
      "metadata": {
        "id": "1Frsx-MksfjW",
        "colab_type": "code",
        "outputId": "11c2d0fa-793a-492c-b8c4-bb4e0c3cd7d6",
        "colab": {
          "base_uri": "https://localhost:8080/",
          "height": 364
        }
      },
      "cell_type": "code",
      "source": [
        "data.Diameter.hist(bins=50)"
      ],
      "execution_count": 0,
      "outputs": [
        {
          "output_type": "execute_result",
          "data": {
            "text/plain": [
              "<matplotlib.axes._subplots.AxesSubplot at 0x7f3a10f8c2e8>"
            ]
          },
          "metadata": {
            "tags": []
          },
          "execution_count": 8
        },
        {
          "output_type": "display_data",
          "data": {
            "image/png": "[encoded data removed]",
            "text/plain": [
              "<Figure size 576x396 with 1 Axes>"
            ]
          },
          "metadata": {
            "tags": []
          }
        }
      ]
    },
    {
      "metadata": {
        "id": "N3ZYQ9ectl2Y",
        "colab_type": "code",
        "outputId": "5ad5c5f2-1736-4864-a710-804557de0ae0",
        "colab": {
          "base_uri": "https://localhost:8080/",
          "height": 2176
        }
      },
      "cell_type": "code",
      "source": [
        "data.count"
      ],
      "execution_count": 10,
      "outputs": [
        {
          "output_type": "execute_result",
          "data": {
            "text/plain": [
              "<bound method DataFrame.count of      Sex  Length  Diameter  Height  Whole weight  Shucked weight  \\\n",
              "0      M   0.455     0.365   0.095        0.5140          0.2245   \n",
              "1      M   0.350     0.265   0.090        0.2255          0.0995   \n",
              "2      F   0.530     0.420   0.135        0.6770          0.2565   \n",
              "3      M   0.440     0.365   0.125        0.5160          0.2155   \n",
              "4      I   0.330     0.255   0.080        0.2050          0.0895   \n",
              "5      I   0.425     0.300   0.095        0.3515          0.1410   \n",
              "6      F   0.530     0.415   0.150        0.7775          0.2370   \n",
              "7      F   0.545     0.425   0.125        0.7680          0.2940   \n",
              "8      M   0.475     0.370   0.125        0.5095          0.2165   \n",
              "9      F   0.550     0.440   0.150        0.8945          0.3145   \n",
              "10     F   0.525     0.380   0.140        0.6065          0.1940   \n",
              "11     M   0.430     0.350   0.110        0.4060          0.1675   \n",
              "12     M   0.490     0.380   0.135        0.5415          0.2175   \n",
              "13     F   0.535     0.405   0.145        0.6845          0.2725   \n",
              "14     F   0.470     0.355   0.100        0.4755          0.1675   \n",
              "15     M   0.500     0.400   0.130        0.6645          0.2580   \n",
              "16     I   0.355     0.280   0.085        0.2905          0.0950   \n",
              "17     F   0.440     0.340   0.100        0.4510          0.1880   \n",
              "18     M   0.365     0.295   0.080        0.2555          0.0970   \n",
              "19     M   0.450     0.320   0.100        0.3810          0.1705   \n",
              "20     M   0.355     0.280   0.095        0.2455          0.0955   \n",
              "21     I   0.380     0.275   0.100        0.2255          0.0800   \n",
              "22     F   0.565     0.440   0.155        0.9395          0.4275   \n",
              "23     F   0.550     0.415   0.135        0.7635          0.3180   \n",
              "24     F   0.615     0.480   0.165        1.1615          0.5130   \n",
              "25     F   0.560     0.440   0.140        0.9285          0.3825   \n",
              "26     F   0.580     0.450   0.185        0.9955          0.3945   \n",
              "27     M   0.590     0.445   0.140        0.9310          0.3560   \n",
              "28     M   0.605     0.475   0.180        0.9365          0.3940   \n",
              "29     M   0.575     0.425   0.140        0.8635          0.3930   \n",
              "...   ..     ...       ...     ...           ...             ...   \n",
              "4147   M   0.695     0.550   0.195        1.6645          0.7270   \n",
              "4148   M   0.770     0.605   0.175        2.0505          0.8005   \n",
              "4149   I   0.280     0.215   0.070        0.1240          0.0630   \n",
              "4150   I   0.330     0.230   0.080        0.1400          0.0565   \n",
              "4151   I   0.350     0.250   0.075        0.1695          0.0835   \n",
              "4152   I   0.370     0.280   0.090        0.2180          0.0995   \n",
              "4153   I   0.430     0.315   0.115        0.3840          0.1885   \n",
              "4154   I   0.435     0.330   0.095        0.3930          0.2190   \n",
              "4155   I   0.440     0.350   0.110        0.3805          0.1575   \n",
              "4156   M   0.475     0.370   0.110        0.4895          0.2185   \n",
              "4157   M   0.475     0.360   0.140        0.5135          0.2410   \n",
              "4158   I   0.480     0.355   0.110        0.4495          0.2010   \n",
              "4159   F   0.560     0.440   0.135        0.8025          0.3500   \n",
              "4160   F   0.585     0.475   0.165        1.0530          0.4580   \n",
              "4161   F   0.585     0.455   0.170        0.9945          0.4255   \n",
              "4162   M   0.385     0.255   0.100        0.3175          0.1370   \n",
              "4163   I   0.390     0.310   0.085        0.3440          0.1810   \n",
              "4164   I   0.390     0.290   0.100        0.2845          0.1255   \n",
              "4165   I   0.405     0.300   0.085        0.3035          0.1500   \n",
              "4166   I   0.475     0.365   0.115        0.4990          0.2320   \n",
              "4167   M   0.500     0.380   0.125        0.5770          0.2690   \n",
              "4168   F   0.515     0.400   0.125        0.6150          0.2865   \n",
              "4169   M   0.520     0.385   0.165        0.7910          0.3750   \n",
              "4170   M   0.550     0.430   0.130        0.8395          0.3155   \n",
              "4171   M   0.560     0.430   0.155        0.8675          0.4000   \n",
              "4172   F   0.565     0.450   0.165        0.8870          0.3700   \n",
              "4173   M   0.590     0.440   0.135        0.9660          0.4390   \n",
              "4174   M   0.600     0.475   0.205        1.1760          0.5255   \n",
              "4175   F   0.625     0.485   0.150        1.0945          0.5310   \n",
              "4176   M   0.710     0.555   0.195        1.9485          0.9455   \n",
              "\n",
              "      Viscera weight  Shell weight  Rings  \n",
              "0             0.1010        0.1500     15  \n",
              "1             0.0485        0.0700      7  \n",
              "2             0.1415        0.2100      9  \n",
              "3             0.1140        0.1550     10  \n",
              "4             0.0395        0.0550      7  \n",
              "5             0.0775        0.1200      8  \n",
              "6             0.1415        0.3300     20  \n",
              "7             0.1495        0.2600     16  \n",
              "8             0.1125        0.1650      9  \n",
              "9             0.1510        0.3200     19  \n",
              "10            0.1475        0.2100     14  \n",
              "11            0.0810        0.1350     10  \n",
              "12            0.0950        0.1900     11  \n",
              "13            0.1710        0.2050     10  \n",
              "14            0.0805        0.1850     10  \n",
              "15            0.1330        0.2400     12  \n",
              "16            0.0395        0.1150      7  \n",
              "17            0.0870        0.1300     10  \n",
              "18            0.0430        0.1000      7  \n",
              "19            0.0750        0.1150      9  \n",
              "20            0.0620        0.0750     11  \n",
              "21            0.0490        0.0850     10  \n",
              "22            0.2140        0.2700     12  \n",
              "23            0.2100        0.2000      9  \n",
              "24            0.3010        0.3050     10  \n",
              "25            0.1880        0.3000     11  \n",
              "26            0.2720        0.2850     11  \n",
              "27            0.2340        0.2800     12  \n",
              "28            0.2190        0.2950     15  \n",
              "29            0.2270        0.2000     11  \n",
              "...              ...           ...    ...  \n",
              "4147          0.3600        0.4450     11  \n",
              "4148          0.5260        0.3550     11  \n",
              "4149          0.0215        0.0300      6  \n",
              "4150          0.0365        0.0460      7  \n",
              "4151          0.0355        0.0410      6  \n",
              "4152          0.0545        0.0615      7  \n",
              "4153          0.0715        0.1100      8  \n",
              "4154          0.0750        0.0885      6  \n",
              "4155          0.0895        0.1150      6  \n",
              "4156          0.1070        0.1460      8  \n",
              "4157          0.1045        0.1550      8  \n",
              "4158          0.0890        0.1400      8  \n",
              "4159          0.1615        0.2590      9  \n",
              "4160          0.2170        0.3000     11  \n",
              "4161          0.2630        0.2845     11  \n",
              "4162          0.0680        0.0920      8  \n",
              "4163          0.0695        0.0790      7  \n",
              "4164          0.0635        0.0810      7  \n",
              "4165          0.0505        0.0880      7  \n",
              "4166          0.0885        0.1560     10  \n",
              "4167          0.1265        0.1535      9  \n",
              "4168          0.1230        0.1765      8  \n",
              "4169          0.1800        0.1815     10  \n",
              "4170          0.1955        0.2405     10  \n",
              "4171          0.1720        0.2290      8  \n",
              "4172          0.2390        0.2490     11  \n",
              "4173          0.2145        0.2605     10  \n",
              "4174          0.2875        0.3080      9  \n",
              "4175          0.2610        0.2960     10  \n",
              "4176          0.3765        0.4950     12  \n",
              "\n",
              "[4177 rows x 9 columns]>"
            ]
          },
          "metadata": {
            "tags": []
          },
          "execution_count": 10
        }
      ]
    },
    {
      "metadata": {
        "id": "hxBlTSGJt_q9",
        "colab_type": "code",
        "outputId": "2017e850-7999-4cf1-fbc4-86ca18600e24",
        "colab": {
          "base_uri": "https://localhost:8080/",
          "height": 379
        }
      },
      "cell_type": "code",
      "source": [
        "data.Diameter.value_counts().plot.bar()"
      ],
      "execution_count": 11,
      "outputs": [
        {
          "output_type": "execute_result",
          "data": {
            "text/plain": [
              "<matplotlib.axes._subplots.AxesSubplot at 0x7f17326b7e48>"
            ]
          },
          "metadata": {
            "tags": []
          },
          "execution_count": 11
        },
        {
          "output_type": "display_data",
          "data": {
            "image/png": "[encoded data removed]",
            "text/plain": [
              "<Figure size 576x396 with 1 Axes>"
            ]
          },
          "metadata": {
            "tags": []
          }
        }
      ]
    },
    {
      "metadata": {
        "id": "txZ0c8wRugp1",
        "colab_type": "code",
        "outputId": "cf8f38c3-9a6c-4514-d369-0ece80c0ddaf",
        "colab": {
          "base_uri": "https://localhost:8080/",
          "height": 364
        }
      },
      "cell_type": "code",
      "source": [
        "data.Diameter.hist()"
      ],
      "execution_count": 13,
      "outputs": [
        {
          "output_type": "execute_result",
          "data": {
            "text/plain": [
              "<matplotlib.axes._subplots.AxesSubplot at 0x7f172e475940>"
            ]
          },
          "metadata": {
            "tags": []
          },
          "execution_count": 13
        },
        {
          "output_type": "display_data",
          "data": {
            "image/png": "[encoded data removed]",
            "text/plain": [
              "<Figure size 576x396 with 1 Axes>"
            ]
          },
          "metadata": {
            "tags": []
          }
        }
      ]
    },
    {
      "metadata": {
        "id": "kfk5e19kvix2",
        "colab_type": "code",
        "colab": {
          "base_uri": "https://localhost:8080/",
          "height": 364
        },
        "outputId": "a7d40752-a0bc-4368-83b2-1bc5ea35b33f"
      },
      "cell_type": "code",
      "source": [
        "data.Height.hist()"
      ],
      "execution_count": 18,
      "outputs": [
        {
          "output_type": "execute_result",
          "data": {
            "text/plain": [
              "<matplotlib.axes._subplots.AxesSubplot at 0x7f172e04f470>"
            ]
          },
          "metadata": {
            "tags": []
          },
          "execution_count": 18
        },
        {
          "output_type": "display_data",
          "data": {
            "image/png": "[encoded data removed]",
            "text/plain": [
              "<Figure size 576x396 with 1 Axes>"
            ]
          },
          "metadata": {
            "tags": []
          }
        }
      ]
    },
    {
      "metadata": {
        "id": "9ZMxFsMpxTA3",
        "colab_type": "code",
        "colab": {}
      },
      "cell_type": "code",
      "source": [
        ""
      ],
      "execution_count": 0,
      "outputs": []
    }
  ]
}